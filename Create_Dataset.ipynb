{
 "cells": [
  {
   "cell_type": "code",
   "execution_count": 1,
   "id": "raising-needle",
   "metadata": {},
   "outputs": [],
   "source": [
    "import csv\n",
    "import wmi\n",
    "\n",
    "colums=[\"CPU Total\",\"CPU Package Temperature\",\"RAM\",\"Disk Temperature\",\"Used Space\",\"Power CPU Package\",\"Power CPU Cores\",\"Power CPU Graphics\",\"Power CPU DRAM\"]\n",
    "\n",
    "dataset=open(\"data/test_data.csv\",\"w\",newline='')\n",
    "writer = csv.writer(dataset)\n",
    "writer.writerow(colums)\n",
    "\n",
    "w = wmi.WMI(namespace=\"root\\OpenHardwareMonitor\")\n",
    "infos = w.Sensor()"
   ]
  },
  {
   "cell_type": "code",
   "execution_count": null,
   "id": "labeled-shirt",
   "metadata": {},
   "outputs": [],
   "source": [
    "for i in range(5000):\n",
    "\n",
    "    details=[-1]*9\n",
    "\n",
    "    for sensor in infos:\n",
    "\n",
    "        if sensor.SensorType==\"Load\":\n",
    "            if (sensor.Name==\"CPU Total\"):\n",
    "                details[0]=sensor.Value\n",
    "\n",
    "        if sensor.SensorType == 'Temperature':\n",
    "            if sensor.Name==\"CPU Package\":\n",
    "                details[1]=sensor.Value\n",
    "\n",
    "        if sensor.SensorType == 'Load':\n",
    "            if sensor.Name==\"Memory\":\n",
    "                details[2]=sensor.Value\n",
    "\n",
    "        if sensor.SensorType==\"Temperature\":\n",
    "            if sensor.Name==\"Temperature\" and sensor.Parent==\"/hdd/0\":\n",
    "                details[3]=sensor.Value\n",
    "\n",
    "        if sensor.SensorType==\"Load\":\n",
    "            if sensor.Name==\"Used Space\" and sensor.Parent==\"/hdd/1\":\n",
    "                details[4]=sensor.Value\n",
    "\n",
    "        if sensor.SensorType == 'Power':\n",
    "            if sensor.Name == \"CPU Package\":\n",
    "                details[5] = sensor.Value\n",
    "\n",
    "        if sensor.SensorType == 'Power':\n",
    "            if sensor.Name == \"CPU Cores\":\n",
    "                details[6] = sensor.Value\n",
    "\n",
    "        if sensor.SensorType == 'Power':\n",
    "            if sensor.Name == \"CPU Graphics\":\n",
    "                details[7] = sensor.Value\n",
    "\n",
    "        if sensor.SensorType == 'Power':\n",
    "            if sensor.Name == \"CPU DRAM\":\n",
    "                details[8] = sensor.Value\n",
    "\n",
    "    writer.writerow(details)\n",
    "    w = wmi.WMI(namespace=\"root\\OpenHardwareMonitor\")\n",
    "    infos = w.Sensor()"
   ]
  },
  {
   "cell_type": "code",
   "execution_count": 3,
   "id": "vocational-framework",
   "metadata": {},
   "outputs": [],
   "source": [
    "dataset.close()"
   ]
  }
 ],
 "metadata": {
  "kernelspec": {
   "display_name": "Python 3",
   "language": "python",
   "name": "python3"
  },
  "language_info": {
   "codemirror_mode": {
    "name": "ipython",
    "version": 3
   },
   "file_extension": ".py",
   "mimetype": "text/x-python",
   "name": "python",
   "nbconvert_exporter": "python",
   "pygments_lexer": "ipython3",
   "version": "3.8.5"
  }
 },
 "nbformat": 4,
 "nbformat_minor": 5
}
